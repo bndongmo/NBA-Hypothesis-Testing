{
 "cells": [
  {
   "cell_type": "markdown",
   "id": "d8b545fa",
   "metadata": {},
   "source": [
    "# Hypothesis testing with NBA statistics\n",
    "\n",
    "In phase I of the final project, we will examine four phenomena in basketball:\n",
    "1. Home court advantage: We'll test the hypothesis that teams have an advantage when playing at home.\n",
    "2. Weekend vs weekday: We'll test the hypothesis that teams tend to score more on weekends.\n",
    "3. Michael Jordan effect: We'll test the hypothesis that Michael Jordan improved the Chicago Bulls scores.\n",
    "4. Rest days (optional): We'll test the hypothesis that having more rest days affects game scores.\n",
    "\n",
    "The tests will be run with real NBA data. This dataset is provided to you in `nba_data.csv` in the same directory as this notebook. We also provide a utility functionin `utils.py`.\n",
    "\n",
    "**Due date:** April 28, 2023 11:30am\n",
    "\n",
    "**Total:** 65 pts\n",
    "\n",
    "**Submission:** Please submit a zip file containing this .ipynb file and a pdf version of this file"
   ]
  },
  {
   "cell_type": "code",
   "execution_count": 1,
   "id": "27933305",
   "metadata": {},
   "outputs": [],
   "source": [
    "#Import the necessary libraries\n",
    "%matplotlib inline\n",
    "\n",
    "import pandas as pd\n",
    "import numpy as np\n",
    "import matplotlib.pyplot as plt\n",
    "import datetime\n",
    "import time\n",
    "from scipy import stats\n",
    "import warnings\n",
    "import utils\n",
    "\n",
    "warnings.filterwarnings('ignore')\n",
    "plt.rc('font', size = 14)"
   ]
  },
  {
   "cell_type": "markdown",
   "id": "e67c2c05",
   "metadata": {},
   "source": [
    "## 1. Data\n",
    "\n",
    "Let's start by exploring and visualizing the data.\n",
    "\n",
    "**(1a).** [1 pt] Read the data file (`nba_data.csv`) as a pandas dataframe. Store the dataframe object in a variable called `df`. What is the total number of games in the dataset? Display the first 5 rows.\n",
    "\n",
    "*Hint:* First, use the `read_csv()` function in pandas. Then, to convert the date column into pandas DateTime format, use the `pd.to_datetime()` function with format string `\"%A, %B %d, %Y\"`"
   ]
  },
  {
   "cell_type": "code",
   "execution_count": 2,
   "id": "720bb5e8",
   "metadata": {},
   "outputs": [
    {
     "name": "stdout",
     "output_type": "stream",
     "text": [
      "Number of games = 60688\n"
     ]
    },
    {
     "data": {
      "text/html": [
       "<div>\n",
       "<style scoped>\n",
       "    .dataframe tbody tr th:only-of-type {\n",
       "        vertical-align: middle;\n",
       "    }\n",
       "\n",
       "    .dataframe tbody tr th {\n",
       "        vertical-align: top;\n",
       "    }\n",
       "\n",
       "    .dataframe thead th {\n",
       "        text-align: right;\n",
       "    }\n",
       "</style>\n",
       "<table border=\"1\" class=\"dataframe\">\n",
       "  <thead>\n",
       "    <tr style=\"text-align: right;\">\n",
       "      <th></th>\n",
       "      <th>season</th>\n",
       "      <th>date</th>\n",
       "      <th>home_pt</th>\n",
       "      <th>home_team</th>\n",
       "      <th>away_pt</th>\n",
       "      <th>away_team</th>\n",
       "      <th>finished_in</th>\n",
       "      <th>winner_pt</th>\n",
       "      <th>margin</th>\n",
       "    </tr>\n",
       "  </thead>\n",
       "  <tbody>\n",
       "    <tr>\n",
       "      <th>0</th>\n",
       "      <td>1950</td>\n",
       "      <td>Saturday, October 29, 1949</td>\n",
       "      <td>93</td>\n",
       "      <td>Tri-Cities Blackhawks</td>\n",
       "      <td>85</td>\n",
       "      <td>Denver Nuggets</td>\n",
       "      <td>NaN</td>\n",
       "      <td>93</td>\n",
       "      <td>8</td>\n",
       "    </tr>\n",
       "    <tr>\n",
       "      <th>1</th>\n",
       "      <td>1950</td>\n",
       "      <td>Tuesday, November 1, 1949</td>\n",
       "      <td>87</td>\n",
       "      <td>Chicago Stags</td>\n",
       "      <td>89</td>\n",
       "      <td>New York Knicks</td>\n",
       "      <td>OT</td>\n",
       "      <td>89</td>\n",
       "      <td>2</td>\n",
       "    </tr>\n",
       "    <tr>\n",
       "      <th>2</th>\n",
       "      <td>1950</td>\n",
       "      <td>Tuesday, November 1, 1949</td>\n",
       "      <td>71</td>\n",
       "      <td>Indianapolis Olympians</td>\n",
       "      <td>64</td>\n",
       "      <td>Denver Nuggets</td>\n",
       "      <td>regulation</td>\n",
       "      <td>71</td>\n",
       "      <td>7</td>\n",
       "    </tr>\n",
       "    <tr>\n",
       "      <th>3</th>\n",
       "      <td>1950</td>\n",
       "      <td>Tuesday, November 1, 1949</td>\n",
       "      <td>108</td>\n",
       "      <td>Rochester Royals</td>\n",
       "      <td>75</td>\n",
       "      <td>Sheboygan Red Skins</td>\n",
       "      <td>regulation</td>\n",
       "      <td>108</td>\n",
       "      <td>33</td>\n",
       "    </tr>\n",
       "    <tr>\n",
       "      <th>4</th>\n",
       "      <td>1950</td>\n",
       "      <td>Tuesday, November 1, 1949</td>\n",
       "      <td>72</td>\n",
       "      <td>St. Louis Bombers</td>\n",
       "      <td>51</td>\n",
       "      <td>Tri-Cities Blackhawks</td>\n",
       "      <td>regulation</td>\n",
       "      <td>72</td>\n",
       "      <td>21</td>\n",
       "    </tr>\n",
       "  </tbody>\n",
       "</table>\n",
       "</div>"
      ],
      "text/plain": [
       "   season                        date  home_pt               home_team  \\\n",
       "0    1950  Saturday, October 29, 1949       93   Tri-Cities Blackhawks   \n",
       "1    1950   Tuesday, November 1, 1949       87           Chicago Stags   \n",
       "2    1950   Tuesday, November 1, 1949       71  Indianapolis Olympians   \n",
       "3    1950   Tuesday, November 1, 1949      108        Rochester Royals   \n",
       "4    1950   Tuesday, November 1, 1949       72       St. Louis Bombers   \n",
       "\n",
       "   away_pt              away_team finished_in  winner_pt  margin  \n",
       "0       85         Denver Nuggets         NaN         93       8  \n",
       "1       89        New York Knicks          OT         89       2  \n",
       "2       64         Denver Nuggets  regulation         71       7  \n",
       "3       75    Sheboygan Red Skins  regulation        108      33  \n",
       "4       51  Tri-Cities Blackhawks  regulation         72      21  "
      ]
     },
     "execution_count": 2,
     "metadata": {},
     "output_type": "execute_result"
    }
   ],
   "source": [
    "df = pd.read_csv('nba_data.csv')\n",
    "print(f'Number of games = {len(df)}')\n",
    "df.head(5)"
   ]
  },
  {
   "cell_type": "markdown",
   "id": "7d93b332",
   "metadata": {},
   "source": [
    "**(1b).** [2 pts] Plot the average home and away score per game for each season (score on y-axis, season on x-axis). Start with season 1960 and end with season 2017. Comment on the general trends across all these years. Label the plot axes, add a title, and include a legend."
   ]
  },
  {
   "cell_type": "code",
   "execution_count": 3,
   "id": "d312ebf4",
   "metadata": {},
   "outputs": [
    {
     "data": {
      "text/plain": [
       "<matplotlib.legend.Legend at 0x175e9efb700>"
      ]
     },
     "execution_count": 3,
     "metadata": {},
     "output_type": "execute_result"
    },
    {
     "data": {
      "image/png": "[encoded data removed]",
      "text/plain": [
       "<Figure size 640x480 with 1 Axes>"
      ]
     },
     "metadata": {},
     "output_type": "display_data"
    }
   ],
   "source": [
    "years = []\n",
    "home_avgs = []\n",
    "away_avgs = []\n",
    "for year in range(1960, 2018):\n",
    "    query = df.query('season == @year')\n",
    "    home_avg = np.mean(query['home_pt'])\n",
    "    away_avg = np.mean(query['away_pt'])\n",
    "    years.append(year)\n",
    "    home_avgs.append(home_avg)\n",
    "    away_avgs.append(away_avg)\n",
    "x = np.array(years)\n",
    "y = np.array([home_avgs, away_avgs])\n",
    "plt.title('Home vs Away Averages from 1960-2017')\n",
    "plt.xlabel('Year')\n",
    "plt.ylabel('Score Average')\n",
    "plt.plot(x, y[0].T, label='Home')\n",
    "plt.plot(x, y[1].T, label='Away')\n",
    "plt.legend()"
   ]
  },
  {
   "cell_type": "markdown",
   "id": "657f5ad1",
   "metadata": {},
   "source": [
    "**A:** 60s characterized by fast paced shot chucking. Game slowed down as teams became more strategic. No zone defense meant more isolation and post play which is slower. Slight uptick in 80s when 3pt shot was introduced but continued to plummet due to similar reasons as the 70s. Early 2000s saw rule changes that favored offense such as no hand checking. Zone defense was allowed which discouraged slow pace isos and post play. Rapid adoption of 3pt shot."
   ]
  },
  {
   "cell_type": "markdown",
   "id": "7888a245",
   "metadata": {},
   "source": [
    "**(1c).** [1 pt] Add a column `total_score` to `df`.\n",
    "\n",
    "To help you check your code works, we added a test case below that should pass with your amended dataframe. Note that the test cases in this project are not exhaustive, so you should still check if your function is correct even if the test cases pass."
   ]
  },
  {
   "cell_type": "code",
   "execution_count": 4,
   "id": "0fc934ec",
   "metadata": {},
   "outputs": [],
   "source": [
    "df['total_score'] = df['home_pt']+df['away_pt']"
   ]
  },
  {
   "cell_type": "code",
   "execution_count": 5,
   "id": "25b23a01",
   "metadata": {},
   "outputs": [],
   "source": [
    "dates = df['date']\n",
    "df['date'] = pd.to_datetime(df['date'])\n",
    "assert df.loc[np.logical_and(df['home_team']=='Boston Celtics',\n",
    "                             df['date'] == pd.to_datetime('2017-05-25'))]['total_score'].values[0] == 237"
   ]
  },
  {
   "cell_type": "markdown",
   "id": "643d964f",
   "metadata": {},
   "source": [
    "**(1d).** [2 pts] Write a function called <b>weekend_new_column()</b> to create two new columns: <br><br>\n",
    "\n",
    "`day_of_week`: this column should be set to an integer between $0$ an $6$, both inclusive. If the game was played on Monday then set `day_of_week = 0`, if it was played on Tuesday then `day_of_week = 1`, ...., and if it was played on Sunday then `day_of_week = 6`.\n",
    "\n",
    "`weekend`: this column should be set to either 0 or 1. If the game was played over the weekend, i.e. on Saturday or Sunday then it should be = 1, else 0.\n",
    "\n",
    "Feel free to follow the example here: https://stackoverflow.com/questions/52398383/finding-day-of-the-week-for-a-datetime64.\n",
    "\n",
    "<b>Make sure to double-check that the column content matches the convention we defined above! (It is easy to make off-by-one mistakes)</b>\n",
    "\n",
    "Your function should pass the test cases below."
   ]
  },
  {
   "cell_type": "code",
   "execution_count": 6,
   "id": "ff5a064e",
   "metadata": {},
   "outputs": [],
   "source": [
    "day_to_num = {'Monday': 0, 'Tuesday': 1, 'Wednesday': 2, 'Thursday': 3, 'Friday': 4, 'Saturday': 5, 'Sunday': 6}\n",
    "def weekend_new_column(df, dates):\n",
    "    '''\n",
    "    Add two columns to the dataframe\n",
    "    @param df: dataframe containing column 'date', will be modified by function\n",
    "    @return: None\n",
    "    '''\n",
    "    \n",
    "    days = []\n",
    "    weekends = []\n",
    "    for date in dates:\n",
    "        day = day_to_num[date[:date.index(',')]]\n",
    "        days.append(day)\n",
    "        weekends.append(int(day >= 5))\n",
    "    df['day_of_week'] = days\n",
    "    df['weekend'] = weekends\n",
    "   \n",
    "    \n",
    "    "
   ]
  },
  {
   "cell_type": "code",
   "execution_count": 7,
   "id": "d6638d3d",
   "metadata": {},
   "outputs": [],
   "source": [
    "\n",
    "weekend_new_column(df,dates)\n",
    "# rewrite test cases to check against date column in case students shuffled the dataframe\n",
    "assert df.loc[df['date'] == pd.to_datetime('2017-06-07')].day_of_week.values[0] == 2\n",
    "assert df.loc[df['date'] == pd.to_datetime('2017-06-07')].weekend.values[0]     == 0\n",
    "assert df.loc[df['date'] == pd.to_datetime('2017-06-04')].day_of_week.values[0] == 6\n",
    "assert df.loc[df['date'] == pd.to_datetime('2017-06-04')].weekend.values[0]     == 1"
   ]
  },
  {
   "cell_type": "markdown",
   "id": "8cf5522d",
   "metadata": {},
   "source": [
    "## 2. Generalized likelihood ratio test for home advantage as a proportion\n",
    "\n",
    "We will use the NBA dataset to determine whether \"home-court advantage\" is statistically significant. Some people believe a team will perform better playing at home because they are more familiar with the environment, less tired from traveling, and more supported by their fans. This article explains what home court advantage is: https://bleacherreport.com/articles/1520496-how-important-is-home-court-advantage-in-the-nba\n",
    "\n",
    "We will define home advantage as follows for this part: The proportion of wins at home for a team is higher than the proportion of wins away for that team.\n",
    "\n",
    "Let $A_k$ be an indicator random variable for whether team $k$ is playing a game at home. Let $B_k$ be an indicator random variable for whether team $k$ wins the game. We are testing for the independence of $A_k$ and $B_k$. When testing for independence of two discrete variables, we can construct a contingency table where the rows are the values of one variable and the columns are the values of the other variable. Then we can use the generalized likelihood ratio test. Let $i$ and $j$ index the rows and columns, respectively, of the contingency table. This test examines whether the number of observations $O_{ij}$ in each entry of the contingency table aligns with the expected numbers $E_{ij}$. The statistic is based on likelihood ratios:\n",
    "\n",
    "\\begin{equation}\n",
    "    G = 2 \\sum_{i,j} O_{ij} \\ln \\left(\\frac{O_{ij}}{E_{ij}}\\right)\n",
    "\\end{equation}\n",
    "\n",
    "The G-statistic follows a chi-squared distribution with (number of rows - 1)(number of columns - 1) as the number of degrees of freedom."
   ]
  },
  {
   "cell_type": "markdown",
   "id": "9b3463e3",
   "metadata": {},
   "source": [
    "**(2a).** [2 pts] For a single team $k$, state your null and alternative hypotheses using the random variables $A_k$ and $B_k$ defined above."
   ]
  },
  {
   "cell_type": "markdown",
   "id": "2e1210ab",
   "metadata": {},
   "source": [
    "**A:** Null Hypothesis (H0): The indicator random variables Ak and Bk are independent. That is, the probability of winning a game does not depend on whether the game is played at home or away.\n",
    "\n",
    "Alternative Hypothesis (HA): The indicator random variables Ak and Bk are dependent. That is, the probability of winning a game depends on whether the game is played at home or away, and the proportion of wins at home for Team k is higher than the proportion of wins away for Team k."
   ]
  },
  {
   "cell_type": "markdown",
   "id": "b9559222",
   "metadata": {},
   "source": [
    "**(2b).** [1 pt] We will restrict the data to seasons 2000-2017 for parts 2 and 3. This is because the mean yearly scores prior to season 2000 demonstrate far greater variance than during this most recent period. Ideally, we want to answer questions about home advantage, for example, during a period when the inter-seasonal variability was less extreme. Create a subset of the dataframe called `df_millenial_subset` for seasons in the range $[2000, 2017]$ (both inclusive)."
   ]
  },
  {
   "cell_type": "code",
   "execution_count": 8,
   "id": "871ed2db",
   "metadata": {},
   "outputs": [
    {
     "name": "stdout",
     "output_type": "stream",
     "text": [
      "       season       date  home_pt             home_team  away_pt  \\\n",
      "37517    2000 1999-11-02      100     Charlotte Hornets       86   \n",
      "37518    2000 1999-11-02      108      Dallas Mavericks       96   \n",
      "37519    2000 1999-11-02      107        Denver Nuggets      102   \n",
      "37520    2000 1999-11-02       93       Houston Rockets       98   \n",
      "37521    2000 1999-11-02       92  Los Angeles Clippers      104   \n",
      "\n",
      "                   away_team finished_in  winner_pt  margin  total_score  \\\n",
      "37517          Orlando Magic  regulation        100      14          186   \n",
      "37518  Golden State Warriors  regulation        108      12          204   \n",
      "37519           Phoenix Suns          OT        107       5          209   \n",
      "37520        Milwaukee Bucks  regulation         98       5          191   \n",
      "37521    Seattle SuperSonics  regulation        104      12          196   \n",
      "\n",
      "       day_of_week  weekend  \n",
      "37517            1        0  \n",
      "37518            1        0  \n",
      "37519            1        0  \n",
      "37520            1        0  \n",
      "37521            1        0  \n"
     ]
    }
   ],
   "source": [
    "df_millenial_subset = df.query('season >= 2000')\n",
    "print(df_millenial_subset.head(5))"
   ]
  },
  {
   "cell_type": "markdown",
   "id": "af66d43a",
   "metadata": {},
   "source": [
    "**(2c).** [1 pt] To ensure we have sufficient data for each hypothesis test, we will only test the home advantage hypothesis for teams that play in all 18 seasons. Create a list `team_names_in_all_seasons` of teams that play in all 18 seasons. Print the number of teams in your list.\n",
    "\n",
    "Note that although we will not test the hypotheses for the excluded teams, matches that include those teams may still be used for the hypothesis tests you conduct."
   ]
  },
  {
   "cell_type": "code",
   "execution_count": 9,
   "id": "ab8f4de9",
   "metadata": {},
   "outputs": [
    {
     "name": "stdout",
     "output_type": "stream",
     "text": [
      "Length = 25\n",
      "{'Charlotte Bobcats', 'Seattle SuperSonics', 'Memphis Grizzlies', 'New Orleans Hornets', 'New Orleans/Oklahoma City Hornets', 'Vancouver Grizzlies', 'Brooklyn Nets', 'Charlotte Hornets', 'New Orleans Pelicans', 'Oklahoma City Thunder', 'New Jersey Nets'}\n"
     ]
    }
   ],
   "source": [
    "initial = df_millenial_subset.query('season == 2000')\n",
    "team_names_in_all_seasons = set(initial['home_team'])\n",
    "for year in range(2001, 2018):\n",
    "    season = df_millenial_subset.query('season == @year')\n",
    "    team_names_in_all_seasons = team_names_in_all_seasons.intersection(set(season['home_team']))\n",
    "print('Length = ' +str(len(team_names_in_all_seasons)))\n",
    "#relocations/name changes should be 5: Seattle/OKC, Bobcats/Hornets, Hornets/Pelicans, Vancouver/Memphis, New Jersey/Brooklyn\n",
    "team_names_in_all_seasons = list(team_names_in_all_seasons)\n",
    "print(set(df_millenial_subset['home_team'])-set(team_names_in_all_seasons))\n",
    "#Seattle/OKC,  Vancouver/Memphis, New Jersey/Brooklyn easy to deal with so I'll add them for 28 teams. Bobcats/Hornets/Pelicans are a mess\n",
    "team_names_in_all_seasons += ['Memphis Grizzlies', 'Oklahoma City Thunder', 'Brooklyn Nets']\n",
    "#Scratch that I'll do Hornets/Pelicans, Charlotte Hornets 88-02, New Orleans Hornets 03-05,08-13, OKC 06-07, Pelicans 14-present\n",
    "team_names_in_all_seasons += ['New Orleans Pelicans']"
   ]
  },
  {
   "cell_type": "markdown",
   "id": "66541cd1",
   "metadata": {},
   "source": [
    "**(2d).** [2 pts] For each team in the list you created in 2c, create a 2x2 contingency table that contains `home` and `away` as the two rows and `wins` and `losses` as the two columns. The entry in the row `home` and column `wins` is the number of home games that are won by that team. The entry in the row `away` and column `losses` is the number of away games that are lost by that team. The other two entries are defined analogously.\n",
    "\n",
    "Keep a list called `observed_tables` containing the contingency tables. This list should follow the order in `team_names_in_all_seasons`.\n",
    "\n",
    "Print the table for the New York Knicks.\n",
    "\n",
    "Your table for the Boston Celtics should pass the test case given below."
   ]
  },
  {
   "cell_type": "code",
   "execution_count": 10,
   "id": "f9f817a4",
   "metadata": {},
   "outputs": [
    {
     "name": "stdout",
     "output_type": "stream",
     "text": [
      "      wins  losses\n",
      "home   392     361\n",
      "away   252     501\n"
     ]
    }
   ],
   "source": [
    "#handle same franchises which changed names\n",
    "def relocate(team, season=None):\n",
    "    if team == 'Vancouver Grizzlies':\n",
    "        return 'Memphis Grizzlies'\n",
    "    if team == 'New Jersey Nets':\n",
    "        return 'Brooklyn Nets'\n",
    "    if team == 'Seattle SuperSonics':\n",
    "        return 'Oklahoma City Thunder'\n",
    "    if (team == 'Charlotte Hornets' and season <= 2002) or (team == 'New Orleans Hornets') or (team == 'New Orleans/Oklahoma City Hornets'):\n",
    "        return 'New Orleans Pelicans'\n",
    "    return team\n",
    "home_wins = {}\n",
    "home_losses = {}\n",
    "away_wins = {}\n",
    "away_losses = {}\n",
    "\n",
    "#initialize win/loss counts\n",
    "for team in team_names_in_all_seasons:\n",
    "    home_wins[team] = 0\n",
    "    home_losses[team] = 0\n",
    "    away_wins[team] = 0\n",
    "    away_losses[team] = 0\n",
    "    \n",
    "#update win/loss counts\n",
    "df_millenial_subset = df_millenial_subset.reset_index()\n",
    "for i in range(len(df_millenial_subset)):\n",
    "    row = df_millenial_subset.loc[i]\n",
    "    season = row['season']\n",
    "    home = relocate(row['home_team'], season)\n",
    "    away = relocate(row['away_team'], season)\n",
    "    \n",
    "    \n",
    "    if row['home_pt'] > row['away_pt']:\n",
    "        if home in home_wins:\n",
    "            home_wins[home] += 1\n",
    "        if away in away_losses:\n",
    "            away_losses[away] += 1\n",
    "    else:\n",
    "        if away in away_wins:\n",
    "            away_wins[away] += 1\n",
    "        if home in home_losses:\n",
    "            home_losses[home] += 1\n",
    "            \n",
    "#store data in tables            \n",
    "observed_tables = []\n",
    "for team in team_names_in_all_seasons:\n",
    "    hw = home_wins[team]\n",
    "    aw = away_wins[team]\n",
    "    hl = home_losses[team]\n",
    "    al = away_losses[team]\n",
    "    contingency_table = pd.DataFrame([[hw, hl], [aw, al]], index=['home', 'away'], columns=['wins', 'losses'])\n",
    "    if team == 'New York Knicks':\n",
    "        print(contingency_table)\n",
    "    observed_tables.append(contingency_table)"
   ]
  },
  {
   "cell_type": "code",
   "execution_count": 11,
   "id": "5525bcae",
   "metadata": {},
   "outputs": [],
   "source": [
    "boston_celtics_idx = team_names_in_all_seasons.index('Boston Celtics')\n",
    "assert np.all(observed_tables[boston_celtics_idx].values == np.array([[506, 308], [359, 450]]))"
   ]
  },
  {
   "cell_type": "markdown",
   "id": "dc6ebaa2",
   "metadata": {},
   "source": [
    "**(2e).** [2 pts] Create a list of tables `expected_tables` in the same format containing the expected number of samples for each entry. The teams should be in the same order as `team_names`.\n",
    "\n",
    "Print the table for the New York Knicks.\n",
    "\n",
    "Your table for the Boston Celtics should pass the test case given below."
   ]
  },
  {
   "cell_type": "code",
   "execution_count": 12,
   "id": "9043df74",
   "metadata": {},
   "outputs": [
    {
     "name": "stdout",
     "output_type": "stream",
     "text": [
      "       wins  losses\n",
      "home  322.0   431.0\n",
      "away  322.0   431.0\n"
     ]
    }
   ],
   "source": [
    "expected_tables = []\n",
    "for team in team_names_in_all_seasons:\n",
    "    hw = home_wins[team]\n",
    "    aw = away_wins[team]\n",
    "    hl = home_losses[team]\n",
    "    al = away_losses[team]\n",
    "    #calculate total win percentage for expected wins/losses under null hyp\n",
    "    win_percentage = (hw+aw)/(hw+aw+hl+al)\n",
    "    home_games = hw+hl\n",
    "    away_games = aw+al\n",
    "    exp_hw = win_percentage*home_games\n",
    "    exp_hl = home_games-exp_hw\n",
    "    exp_aw = win_percentage*away_games\n",
    "    exp_al = away_games-exp_aw\n",
    "    contingency_table = pd.DataFrame([[exp_hw, exp_hl], [exp_aw, exp_al]], index=['home', 'away'], columns=['wins', 'losses'])\n",
    "    if team == 'New York Knicks':\n",
    "        print(contingency_table)\n",
    "    expected_tables.append(contingency_table)"
   ]
  },
  {
   "cell_type": "code",
   "execution_count": 13,
   "id": "bbe6f746",
   "metadata": {},
   "outputs": [],
   "source": [
    "boston_celtics_idx = team_names_in_all_seasons.index('Boston Celtics')\n",
    "assert np.all(np.around(expected_tables[boston_celtics_idx].values, decimals = 1) \n",
    "                        == np.array([[433.8, 380.2], [431.2, 377.8]]))"
   ]
  },
  {
   "cell_type": "markdown",
   "id": "19d8a6fe",
   "metadata": {},
   "source": [
    "**(2f).** [2 pts] Write a function that computes the G-statistic from a 2x2 contingency table containing the observed counts and a 2x2 contingency table containing the expected counts.\n",
    "\n",
    "Your function should pass the test below."
   ]
  },
  {
   "cell_type": "code",
   "execution_count": 14,
   "id": "1836ca3f",
   "metadata": {},
   "outputs": [],
   "source": [
    "def compute_g_statistic(observed_df,\n",
    "                        expected_df):\n",
    "    '''\n",
    "    Compute the G-statistic from the observed and expected contingency tables.\n",
    "    @param observed_df: pandas DataFrame, observed contingency table, \n",
    "                        contains columns wins, losses\n",
    "    @param expected_df: pandas DataFrame, expected contingency table, contains same columns\n",
    "    @return: float, G-statistic\n",
    "    '''\n",
    "    assert len(observed_df) == 2\n",
    "    assert len(expected_df) == 2\n",
    "    assert len(observed_df.columns) == 2\n",
    "    assert len(expected_df.columns) == 2\n",
    "    \n",
    "    observed = np.array(observed_df)\n",
    "    expected = np.array(expected_df)\n",
    "    \n",
    "    G = 2 * np.sum(observed * np.log(observed / expected))\n",
    "    \n",
    "    return G"
   ]
  },
  {
   "cell_type": "code",
   "execution_count": 15,
   "id": "3e885176",
   "metadata": {},
   "outputs": [],
   "source": [
    "test_observed_table = pd.DataFrame(data = {'wins': [6, 3],\n",
    "                                           'losses': [4, 5]},\n",
    "                                   columns = ['wins', 'losses'])\n",
    "test_expected_table = pd.DataFrame(data = {'wins': [5, 4],\n",
    "                                           'losses': [5, 4]},\n",
    "                                   columns = ['wins', 'losses'])\n",
    "assert np.around(compute_g_statistic(test_observed_table, test_expected_table), decimals = 1) == .9"
   ]
  },
  {
   "cell_type": "markdown",
   "id": "37986e97",
   "metadata": {},
   "source": [
    "**(2g).** [2 pts] Write a function that computes the p-value from the G-statistic from a 2x2 contingency table. The statistic follows a chi-squared distribution. How many degrees of freedom does this distribution have?\n",
    "\n",
    "*Hint:* You may find the **scipy.stats.chi2** object to be useful. \n",
    "\n",
    "https://docs.scipy.org/doc/scipy/reference/generated/scipy.stats.chi2.html "
   ]
  },
  {
   "cell_type": "markdown",
   "id": "210e2cbd",
   "metadata": {},
   "source": [
    "**A:** (2-1)(2-1)=1 degree of freedom"
   ]
  },
  {
   "cell_type": "code",
   "execution_count": 16,
   "id": "72ec1be4",
   "metadata": {},
   "outputs": [],
   "source": [
    "def compute_p_value_from_g_statistic(g_statistic):\n",
    "    '''\n",
    "    Compute the p-value for a G-statistic\n",
    "    @param g_statistic: float\n",
    "    @return: float, p-value\n",
    "    '''\n",
    "    p_value = 1 - stats.chi2.cdf(g_statistic, df=29)\n",
    "    return p_value"
   ]
  },
  {
   "cell_type": "markdown",
   "id": "34507f3d",
   "metadata": {},
   "source": [
    "**(2h).** [2 pts] Using the functions you wrote in parts 2f and 2g, compute the G-statistics and p-values for each team. Display the results for all teams in a pandas dataframe with columns `Team name`, `G-statistic`, `P-value`."
   ]
  },
  {
   "cell_type": "code",
   "execution_count": 17,
   "id": "da14ef65",
   "metadata": {},
   "outputs": [
    {
     "name": "stdout",
     "output_type": "stream",
     "text": [
      "                 Team_name  G-statistic       P-value\n",
      "0            Orlando Magic    55.116678  2.401113e-03\n",
      "1    Golden State Warriors    75.111494  5.873607e-06\n",
      "2       Los Angeles Lakers    74.404976  7.395810e-06\n",
      "3          Detroit Pistons    59.358376  7.417774e-04\n",
      "4            Atlanta Hawks    94.715594  6.731354e-09\n",
      "5         Dallas Mavericks    50.595624  7.784964e-03\n",
      "6     Los Angeles Clippers    68.273101  5.204649e-05\n",
      "7            Chicago Bulls    58.146119  1.044448e-03\n",
      "8           Indiana Pacers   106.390040  9.060264e-11\n",
      "9           Boston Celtics    51.847160  5.669102e-03\n",
      "10         Houston Rockets    50.517855  7.938133e-03\n",
      "11      Philadelphia 76ers    31.036067  3.637260e-01\n",
      "12              Miami Heat    71.968947  1.622969e-05\n",
      "13         Milwaukee Bucks    68.402779  4.999045e-05\n",
      "14  Minnesota Timberwolves    40.756298  7.231006e-02\n",
      "15        Sacramento Kings    74.170943  7.980528e-06\n",
      "16               Utah Jazz    94.508114  7.255237e-09\n",
      "17         Toronto Raptors    47.236940  1.761082e-02\n",
      "18  Portland Trail Blazers    81.576573  6.793662e-07\n",
      "19      Washington Wizards    63.480518  2.235629e-04\n",
      "20          Denver Nuggets   113.894447  5.225598e-12\n",
      "21            Phoenix Suns    51.879163  5.622816e-03\n",
      "22       San Antonio Spurs    81.920616  6.042993e-07\n",
      "23     Cleveland Cavaliers    82.236484  5.426011e-07\n",
      "24         New York Knicks    53.518004  3.674248e-03\n",
      "25       Memphis Grizzlies    61.332910  4.204113e-04\n",
      "26   Oklahoma City Thunder    55.081712  2.423816e-03\n",
      "27           Brooklyn Nets    57.583414  1.222145e-03\n",
      "28    New Orleans Pelicans    61.569387  3.924428e-04\n"
     ]
    }
   ],
   "source": [
    "results = {'Team_name': [], 'G-statistic': [], 'P-value': []}\n",
    "for i, team in enumerate(team_names_in_all_seasons):\n",
    "    observed = observed_tables[i]\n",
    "    expected = expected_tables[i]\n",
    "    g = compute_g_statistic(observed, expected)\n",
    "    p = compute_p_value_from_g_statistic(g)\n",
    "    results['Team_name'].append(team)\n",
    "    results['G-statistic'].append(g)\n",
    "    results['P-value'].append(p)\n",
    "results = pd.DataFrame(results)\n",
    "print(results)"
   ]
  },
  {
   "cell_type": "markdown",
   "id": "68b0522e",
   "metadata": {},
   "source": [
    "**(2i).** [1 pt] Pick any team. State whether the computed p-value supports the idea that the team you selected has ahome advantage."
   ]
  },
  {
   "cell_type": "markdown",
   "id": "4f75d5a4",
   "metadata": {},
   "source": [
    "**A:** The Atlanta Hawks are the greatest team ever. Their p-value is literally 0.000000e+00 with one of the best home advantages in the league. It's different in the A. Boston got lucky"
   ]
  },
  {
   "cell_type": "markdown",
   "id": "64ebe59b",
   "metadata": {},
   "source": [
    "**(2j).** [1 pt] When testing multiple hypotheses, some true null hypothesis may be rejected by random chance. (For a fun illustration, see https://xkcd.com/882/.) To guarantee the likelihood of rejecting any true null hypothesis is at most .05, we can check if each p-value is below .05 divided by the number of hypotheses tested. Union bound gives us the desired guarantee. This multiple hypothesis correction is called Bonferroni's correction. We will learn about multiple hypothesis corrections in a later lecture.\n",
    "\n",
    "Using the p-value threshold in Bonferroni's correction, for which teams can we conclude there is home advantage?"
   ]
  },
  {
   "cell_type": "markdown",
   "id": "e391e049",
   "metadata": {},
   "source": [
    "**A:** Every team still has home advantage after the correction."
   ]
  },
  {
   "cell_type": "markdown",
   "id": "12c981b1",
   "metadata": {},
   "source": [
    "## 3. One-sample t-test for home advantage as a mean of differences between paired games\n",
    "\n",
    "In this part, we will consider another definition for home advantage: Consider a pair of games between teams $i$ and $j$. In one game, team $i$ is playing at home and scores $h_i$, while team $j$ is playing away and scores $a_j$. In another game, team $i$ is playing away and scores $a_i$, while team $j$ is playing at home and scores $h_j$. For this pair of games, home advantage is defined as\n",
    "\n",
    "\\begin{equation}\n",
    "    \\left(h_i - a_j\\right) - \\left(a_i - h_j\\right)\n",
    "\\end{equation}\n",
    "\n",
    "We will perform a one-sided t-test for home advantage. The t-statistic is\n",
    "\n",
    "\\begin{equation}\n",
    "    t = \\frac{\\hat{\\mu} - \\mu_0}{se\\left(\\hat{\\mu}\\right)}\n",
    "\\end{equation}"
   ]
  },
  {
   "cell_type": "markdown",
   "id": "23a7b922",
   "metadata": {},
   "source": [
    "**(3a).** [2 pts] Implement a function called `compute_home_advantage` to compute the home advantage. Your function should use `construct_game_pairs` provided in `utils.py` to construct pairs of games in the same season. For any pair of teams $i$ and $j$, each game with team $i$ at home and team $j$ away in a season is paired with each game with team $i$ away and team $j$ at home in the same season. This function will create a dataframe with one game pair per row.  Your job is to add a column `home_advantage` that computes the home advantage.\n",
    "\n",
    "Your function should pass the test case below."
   ]
  },
  {
   "cell_type": "code",
   "execution_count": 18,
   "id": "8ebed4a6",
   "metadata": {},
   "outputs": [],
   "source": [
    "\n",
    "def compute_home_advantage(df):\n",
    "    '''\n",
    "    Create a dataframe with one pair of games per row and add a column containing the home_advantage for each pair\n",
    "    @param df: pandas DataFrame containing columns date, season, home_team, away_team, home_pt, away_pt, etc.\n",
    "    @return: pandas DataFrame containing one paired game per row and home_advantage column\n",
    "    '''\n",
    "    pairs = utils.construct_game_pairs(df)\n",
    "    pairs['home_advantage'] = pairs['pair_game1_home_pt']+pairs['pair_game2_home_pt']-pairs['pair_game1_away_pt']-pairs['pair_game2_away_pt']\n",
    "    return pairs"
   ]
  },
  {
   "cell_type": "code",
   "execution_count": 19,
   "id": "9be7cf50",
   "metadata": {},
   "outputs": [],
   "source": [
    "pair_games_df = compute_home_advantage(df_millenial_subset)\n",
    "assert pair_games_df.loc[np.logical_and.reduce((\n",
    "    pair_games_df['season'] == 2017,\n",
    "    pair_games_df['pair_game1_date'] == pd.to_datetime('2017-05-02'),\n",
    "    pair_games_df['pair_game1_home_team'] == 'Boston Celtics',\n",
    "    pair_games_df['pair_game1_away_team'] == 'Washington Wizards',\n",
    "    pair_games_df['pair_game2_date'] == pd.to_datetime('2017-05-07')))].home_advantage.values[0] == 29"
   ]
  },
  {
   "cell_type": "markdown",
   "id": "7d15c9e2",
   "metadata": {},
   "source": [
    "**(3b).** [2 pts] Let's examine the distribution of home advantage.\n",
    "\n",
    "1. Print the mean home advantage.\n",
    "2. Create a histogram showing the density of the data with 40 bins."
   ]
  },
  {
   "cell_type": "code",
   "execution_count": 20,
   "id": "e787e35d",
   "metadata": {},
   "outputs": [
    {
     "name": "stdout",
     "output_type": "stream",
     "text": [
      "Mean Home Advantage = 6.683443892935009\n"
     ]
    },
    {
     "data": {
      "image/png": "[encoded data removed]",
      "text/plain": [
       "<Figure size 640x480 with 1 Axes>"
      ]
     },
     "metadata": {},
     "output_type": "display_data"
    }
   ],
   "source": [
    "print(f\"Mean Home Advantage = {np.mean(pair_games_df['home_advantage'])}\")\n",
    "plt.hist(pair_games_df['home_advantage'], bins=40, density=True)\n",
    "plt.xlabel('Home Advantage')\n",
    "plt.ylabel('Density')\n",
    "plt.show()"
   ]
  },
  {
   "cell_type": "markdown",
   "id": "9ff9aaa8",
   "metadata": {},
   "source": [
    "**(3c).** [2 pts] Let $\\mu_{HA}$ be the mean advantage. State your null and alternative hypotheses in math and in words. Please define \"home court advantage\" in the context of this test instead of using those exact words."
   ]
  },
  {
   "cell_type": "markdown",
   "id": "c1574f21",
   "metadata": {},
   "source": [
    "**A:** Null Hypothesis H0: 𝜇𝐻𝐴 = 0\n",
    "Alternative Hypothesis H1: 𝜇𝐻𝐴 > 0\n",
    "\n",
    "The null hypothesis states that the mean home advantage is zero. The alternative hypothesis states that the mean home advantage is greater than zero."
   ]
  },
  {
   "cell_type": "markdown",
   "id": "fcedf5d1",
   "metadata": {},
   "source": [
    "**(3d).** [3 pts] Assuming the game pairs are independent, run a 1-sided t-test to assess whether the mean home advantage is significantly above 0. Print the t-statistic and p-value. Interpret your result.\n",
    "\n",
    "Hint: You may find `scipy.stats.ttest_1samp` useful.\n",
    "\n",
    "https://docs.scipy.org/doc/scipy/reference/generated/scipy.stats.ttest_1samp.html"
   ]
  },
  {
   "cell_type": "code",
   "execution_count": 21,
   "id": "36d2e743",
   "metadata": {},
   "outputs": [
    {
     "name": "stdout",
     "output_type": "stream",
     "text": [
      "t-statistic: 58.818\n",
      "p-value: 0.000\n"
     ]
    }
   ],
   "source": [
    "t_statistic, p_value = stats.ttest_1samp(pair_games_df['home_advantage'], 0, alternative='greater')\n",
    "\n",
    "print(f\"t-statistic: {t_statistic:.3f}\")\n",
    "print(f\"p-value: {p_value:.3f}\")"
   ]
  },
  {
   "cell_type": "markdown",
   "id": "86a25eef",
   "metadata": {},
   "source": [
    "**A:** The p-value is very small, indicating strong evidence against the null hypothesis that the mean home advantage is zero. We can interpret this result to mean that there is a statistically significant home court advantage in the NBA, and that teams are more likely to win when playing at their home stadium or arena."
   ]
  },
  {
   "cell_type": "markdown",
   "id": "1912b460",
   "metadata": {},
   "source": [
    "**(3e).** [2 pts] The one-sample t-test you just ran makes the following 2 assumptions:\n",
    "\n",
    "1. The mean home advantage is Normally distributed.\n",
    "2. The home advantages from all the game pairs are independent and identically distributed.\n",
    "\n",
    "Do these 2 assumptions hold?"
   ]
  },
  {
   "cell_type": "markdown",
   "id": "23382b30",
   "metadata": {},
   "source": [
    "**A:** Based on the histogram of home advantages it seems reasonable to assume the mean home advantage is normally distributed. The home advantages from all pairs aren't necessarily independent because for example the home_advantage between team i and team j within consecutive seasons are likely to be similar if the teams haven't changed much. They also aren't identically distributed because the skill difference between different pairs of teams isn't constant."
   ]
  },
  {
   "cell_type": "markdown",
   "id": "3182e775",
   "metadata": {},
   "source": [
    "## 4. Weekend vs weekday\n",
    "\n",
    "We will use the NBA dataset to assess whether the total number of points scored is different in weekend vs weekday games. Some people believe more points are scored on the weekend because players are more well-supported by packed audiences on the weekend. On the other hand, some people believe that because players take more time off the weekend, they are more focused and in shape on weekdays, so they might score more points on weekdays.\n",
    "\n",
    "In this section, we will run a two-sided two-sample t-test. You may assume the two samples $X$ and $Y$ have equal variance. The t-statistic is \n",
    "\n",
    "\\begin{equation}\n",
    "    t = \\frac{\\left(\\bar{X} - \\bar{Y}\\right) - \\left(\\mu_X - \\mu_Y\\right)}{s \\sqrt{\\frac{1}{n_X} + \\frac{1}{n_Y}}}\n",
    "\\end{equation}\n",
    "\n",
    "where $s^2$ is the pooled sample variance:\n",
    "\n",
    "\\begin{equation}\n",
    "    s^2 = \\frac{\\left(n_X - 1\\right) s_X^2 + \\left(n_Y - 1\\right) s_Y^2}{\\left(n_X - 1\\right) + \\left(n_Y - 1\\right)}\n",
    "\\end{equation}\n",
    "\n",
    "$n_X$ and $n_Y$ are the numbers of samples, and $s_X^2$ and $s_Y^2$ are the empirical variances."
   ]
  },
  {
   "cell_type": "markdown",
   "id": "fe67e193",
   "metadata": {},
   "source": [
    "**(4a).** [1 pt] Create two subsets `df_weekend` and `df_weekday` of games played on weekends/weekdays, respectively."
   ]
  },
  {
   "cell_type": "code",
   "execution_count": 22,
   "id": "7cd739fe",
   "metadata": {},
   "outputs": [],
   "source": [
    "df_weekend = df_millenial_subset.query('weekend == 1')\n",
    "df_weekday = df_millenial_subset.query('weekend == 0')"
   ]
  },
  {
   "cell_type": "markdown",
   "id": "115f8f74",
   "metadata": {},
   "source": [
    "**(4b).** [1 pt] What are average total scores for weekend vs weekday games? Print both."
   ]
  },
  {
   "cell_type": "code",
   "execution_count": 23,
   "id": "b39807a6",
   "metadata": {},
   "outputs": [
    {
     "name": "stdout",
     "output_type": "stream",
     "text": [
      "Weekend Average = 196.4405616224649\n",
      "Weekday Average = 196.9075830797685\n"
     ]
    }
   ],
   "source": [
    "print(f\"Weekend Average = {np.mean(df_weekend['total_score'])}\")\n",
    "print(f\"Weekday Average = {np.mean(df_weekday['total_score'])}\")"
   ]
  },
  {
   "cell_type": "markdown",
   "id": "526f4fe2",
   "metadata": {},
   "source": [
    "**(4c).** [1 pt] What are the standard deviations of the total scores for weekend vs weekday games? Print both. Can we say variance is equal between these two samples?"
   ]
  },
  {
   "cell_type": "code",
   "execution_count": 24,
   "id": "21e115a4",
   "metadata": {
    "scrolled": false
   },
   "outputs": [
    {
     "name": "stdout",
     "output_type": "stream",
     "text": [
      "Weekend Standard Deviation = 20.757269853973206\n",
      "Weekday Standard Deviation = 20.76322756721499\n"
     ]
    }
   ],
   "source": [
    "print(f\"Weekend Standard Deviation = {np.std(df_weekend['total_score'])}\")\n",
    "print(f\"Weekday Standard Deviation = {np.std(df_weekday['total_score'])}\")"
   ]
  },
  {
   "cell_type": "markdown",
   "id": "57f77272",
   "metadata": {},
   "source": [
    "**A:** (Type your answer here)"
   ]
  },
  {
   "cell_type": "markdown",
   "id": "26f9c0ae",
   "metadata": {},
   "source": [
    "**(4d).** [2 pts] Plot a histogram of the densities of the total scores in games played on weekends and weekdays."
   ]
  },
  {
   "cell_type": "code",
   "execution_count": 25,
   "id": "6bc5892e",
   "metadata": {},
   "outputs": [
    {
     "data": {
      "image/png": "[encoded data removed]",
      "text/plain": [
       "<Figure size 640x480 with 1 Axes>"
      ]
     },
     "metadata": {},
     "output_type": "display_data"
    }
   ],
   "source": [
    "plt.hist(df_weekend['total_score'], bins=40, alpha=0.5, label='Weekend', density=True)\n",
    "plt.hist(df_weekday['total_score'], bins=40, alpha=0.5, label='Weekday', density=True)\n",
    "plt.xlabel('Total Score')\n",
    "plt.ylabel('Density')\n",
    "plt.legend()\n",
    "plt.show()"
   ]
  },
  {
   "cell_type": "markdown",
   "id": "f674acc6",
   "metadata": {},
   "source": [
    "**(4e).** [2 pts] Let $\\mu_0$ and $\\mu_1$ be the mean of total scores on the weekdays and weekends, respectively. State your null and alternative hypotheses in math and words."
   ]
  },
  {
   "cell_type": "markdown",
   "id": "c19be32a",
   "metadata": {},
   "source": [
    "**A:** Null hypothesis: The mean total score for games played on weekends is equal to the mean total score for games played on weekdays.𝜇0=𝜇1\n",
    "\n",
    "Alternative hypothesis: The mean total score for games played on weekends is significantly different from the mean total score for games played on weekdays.𝜇0!=𝜇1"
   ]
  },
  {
   "cell_type": "markdown",
   "id": "0fd5efe8",
   "metadata": {},
   "source": [
    "**(4f).** [3 pts] Assume the total scores from each game are independent and identically distributed. Run the t-test for your hypotheses. Print the t-statistic and p-value. What would you conclude?\n",
    "\n",
    "*Hint:* You may use the `ttest_ind` function in `scipy.stats`\n",
    "\n",
    "https://docs.scipy.org/doc/scipy/reference/generated/scipy.stats.ttest_ind.html"
   ]
  },
  {
   "cell_type": "code",
   "execution_count": 26,
   "id": "4d28b5bf",
   "metadata": {},
   "outputs": [
    {
     "name": "stdout",
     "output_type": "stream",
     "text": [
      "t-statistic = -1.532, p-value = 0.126\n"
     ]
    }
   ],
   "source": [
    "# extract total scores for weekend and weekday games\n",
    "weekend_scores = df_weekend['total_score']\n",
    "weekday_scores = df_weekday['total_score']\n",
    "\n",
    "# perform two-sided t-test\n",
    "t_statistic, p_value = stats.ttest_ind(weekend_scores, weekday_scores)\n",
    "\n",
    "print(f\"t-statistic = {t_statistic:.3f}, p-value = {p_value:.3f}\")"
   ]
  },
  {
   "cell_type": "markdown",
   "id": "791eb409",
   "metadata": {},
   "source": [
    "**A:** The p-value is relatively large (greater than 0.05), which means that we cannot reject the null hypothesis that there is no difference between the mean total scores of weekend and weekday games at a significance level of 5%. In other words, we do not have enough evidence to conclude that the mean total scores are different between these two types of games."
   ]
  },
  {
   "cell_type": "markdown",
   "id": "b019e7cf",
   "metadata": {},
   "source": [
    "Note: Although we assumed the total scores from each game are independent and identically distributed, this does not necessarily hold. For instance, in the next part, we will see how games with Michael Jordan might tend to have higher scores!"
   ]
  },
  {
   "cell_type": "markdown",
   "id": "61937998",
   "metadata": {},
   "source": [
    "## 5. The Michael Jordan Effect\n",
    "\n",
    "Widely regarded as the all-time greatest players in the history of the NBA, Michael Jordan led the Chicago Bulls to six championships (1991-93 and 1996-98). The other constants during the 1991-1998 Bulls era were hall of famer Scottie Pipen and coach Phil Jackson. We would like to study whether Jordan's presence on the team was (statistically) significant in bringing the championships to the Bulls.\n",
    "\n",
    "Conveniently (for us), Jordan retired from basketball after winning three consecutive NBA championships with the Chicago Bulls. He retired ahead of the 1994 season but returned back from retirement late during the 1995 season to eventually lead the Bulls to three more titles in the 1996, 1997, 1998 seasons.\n",
    "\n",
    "During his absence, both Pipen and Jackson were still at the Bulls, allowing us to study the impact of Michael Jordan's absence on the Chicago Bulls' performance. This fact will allow us to assume that the only change in the years with or without Jordan in the period 1992-1997 was Michael Jordan's presence/absence. You may assume there are no other confounding factors at play."
   ]
  },
  {
   "cell_type": "markdown",
   "id": "ee16118a",
   "metadata": {},
   "source": [
    "**(5a).** [2 pts] Produce a subset of the data which includes the following seasons only: 1992-1997. Additionally, the subset should only include games (home or away) featuring the Chicago Bulls."
   ]
  },
  {
   "cell_type": "code",
   "execution_count": 27,
   "id": "fc3cd248",
   "metadata": {},
   "outputs": [
    {
     "name": "stdout",
     "output_type": "stream",
     "text": [
      "       season       date  home_pt        home_team  away_pt  \\\n",
      "28222    1992 1991-11-01      110    Chicago Bulls       90   \n",
      "28241    1992 1991-11-02      109  Milwaukee Bucks      107   \n",
      "28247    1992 1991-11-05      110    Chicago Bulls      118   \n",
      "28258    1992 1991-11-06      113   Boston Celtics      132   \n",
      "28274    1992 1991-11-08      108    Chicago Bulls       92   \n",
      "\n",
      "                   away_team finished_in  winner_pt  margin  total_score  \\\n",
      "28222     Philadelphia 76ers  regulation        110      20          200   \n",
      "28241          Chicago Bulls  regulation        109       2          216   \n",
      "28247  Golden State Warriors  regulation        118       8          228   \n",
      "28258          Chicago Bulls  regulation        132      19          245   \n",
      "28274       Dallas Mavericks  regulation        108      16          200   \n",
      "\n",
      "       day_of_week  weekend  \n",
      "28222            4        0  \n",
      "28241            5        1  \n",
      "28247            1        0  \n",
      "28258            2        0  \n",
      "28274            4        0  \n"
     ]
    }
   ],
   "source": [
    "bulls_df = df.query(\"season >= 1992 & season <= 1997 & (home_team == 'Chicago Bulls' or away_team == 'Chicago Bulls')\")\n",
    "print(bulls_df.head(5))"
   ]
  },
  {
   "cell_type": "markdown",
   "id": "94c7700c",
   "metadata": {},
   "source": [
    "**(5b).** [3 pts] Create three new columns on the subset as follows: <br>\n",
    "1. `for_score`: points scored by the Chicago Bulls (home or away) in the seasons 1992-1997. <br>\n",
    "2. `against_score`: points scored against the Chicago Bulls (home or away) in the seasons 1992-1997. <br>\n",
    "3. `net_score`: net score by the Chicago Bulls (home or away) in the seasons 1992-1997.\n",
    "\n",
    "Your amended dataframe should pass the tests below."
   ]
  },
  {
   "cell_type": "code",
   "execution_count": 28,
   "id": "8d51ee1b",
   "metadata": {},
   "outputs": [
    {
     "name": "stdout",
     "output_type": "stream",
     "text": [
      "       season       date  home_pt        home_team  away_pt  \\\n",
      "28222    1992 1991-11-01      110    Chicago Bulls       90   \n",
      "28241    1992 1991-11-02      109  Milwaukee Bucks      107   \n",
      "28247    1992 1991-11-05      110    Chicago Bulls      118   \n",
      "28258    1992 1991-11-06      113   Boston Celtics      132   \n",
      "28274    1992 1991-11-08      108    Chicago Bulls       92   \n",
      "\n",
      "                   away_team finished_in  winner_pt  margin  total_score  \\\n",
      "28222     Philadelphia 76ers  regulation        110      20          200   \n",
      "28241          Chicago Bulls  regulation        109       2          216   \n",
      "28247  Golden State Warriors  regulation        118       8          228   \n",
      "28258          Chicago Bulls  regulation        132      19          245   \n",
      "28274       Dallas Mavericks  regulation        108      16          200   \n",
      "\n",
      "       day_of_week  weekend  for_score  against_score  net_score  \n",
      "28222            4        0        110             90         20  \n",
      "28241            5        1        107            109         -2  \n",
      "28247            1        0        110            118         -8  \n",
      "28258            2        0        132            113         19  \n",
      "28274            4        0        108             92         16  \n"
     ]
    }
   ],
   "source": [
    "#use indicators to extract bulls and opponents' score\n",
    "bulls_df['for_score'] = (df['home_team']=='Chicago Bulls')*df['home_pt']+(df['away_team']=='Chicago Bulls')*df['away_pt']\n",
    "bulls_df['against_score'] = (df['home_team']!='Chicago Bulls')*df['home_pt']+(df['away_team']!='Chicago Bulls')*df['away_pt']\n",
    "bulls_df['net_score'] = bulls_df['for_score']-bulls_df['against_score']\n",
    "print(bulls_df.head(5))"
   ]
  },
  {
   "cell_type": "code",
   "execution_count": 29,
   "id": "1aead88b",
   "metadata": {},
   "outputs": [],
   "source": [
    "test_game = bulls_df.loc[bulls_df['date'] == pd.to_datetime('1997-06-13')]\n",
    "assert test_game.for_score.values[0] == 90\n",
    "assert test_game.against_score.values[0] == 86\n",
    "assert test_game.net_score.values[0] == 4"
   ]
  },
  {
   "cell_type": "markdown",
   "id": "4bfcfc10",
   "metadata": {},
   "source": [
    "**(5c).** [1 pt] Using the subset above, produce two disjoint subsets as follows: <br> \n",
    "`df_subset_jordan`: includes seasons 1992, 1993, 1996, 1997 (we leave 1994 and 1995 out). <br>\n",
    "`df_subset_no_jordan`: includes seasons 1994, 1995 only."
   ]
  },
  {
   "cell_type": "code",
   "execution_count": 30,
   "id": "bf2c9f5d",
   "metadata": {},
   "outputs": [],
   "source": [
    "df_subset_jordan = bulls_df.query('season < 1994 | season > 1995')\n",
    "df_subset_no_jordan = bulls_df.query('season == 1994 | season == 1995')"
   ]
  },
  {
   "cell_type": "markdown",
   "id": "fd60c039",
   "metadata": {},
   "source": [
    "**(5d).** [2 pts] Let $\\mu_1$ be the means of `for_score` for the Chicago bulls during the Jordan seasons ('92, '93, '96, '97). Let $\\mu_0$ be the means of `for_score` for the Chicago bulls during the seasons without him ('94, '95). What are the null and alternate hypotheses if we want to assess the Michael Jordan effect on `for_score` in these two time periods? Please state in math and in words."
   ]
  },
  {
   "cell_type": "markdown",
   "id": "48f648db",
   "metadata": {},
   "source": [
    "**A:** Null Hypothesis: There is no difference in mean for_score during the Jordan seasons and seasons without him.\n",
    "Alternate Hypothesis: There is a difference in mean for_score during the Jordan seasons and seasons without him.\n",
    "\n",
    "H0: 𝜇0 = 𝜇1\n",
    "Ha: 𝜇0 ≠ 𝜇1"
   ]
  },
  {
   "cell_type": "markdown",
   "id": "b8e6e613",
   "metadata": {},
   "source": [
    "**(5e).** [1 pt] Produce the mean `for_score` by the Chicago Bulls during the Jordan seasons and the seasons without him. Print both."
   ]
  },
  {
   "cell_type": "code",
   "execution_count": 31,
   "id": "681d29b6",
   "metadata": {},
   "outputs": [
    {
     "name": "stdout",
     "output_type": "stream",
     "text": [
      "Mean for_score during the Jordan seasons: 104.39162561576354\n",
      "Mean for_score during seasons without Jordan: 99.33695652173913\n"
     ]
    }
   ],
   "source": [
    "mean_for_score_jordan = df_subset_jordan['for_score'].mean()\n",
    "mean_for_score_no_jordan = df_subset_no_jordan['for_score'].mean()\n",
    "\n",
    "print(\"Mean for_score during the Jordan seasons:\", mean_for_score_jordan)\n",
    "print(\"Mean for_score during seasons without Jordan:\", mean_for_score_no_jordan)"
   ]
  },
  {
   "cell_type": "markdown",
   "id": "bdd9d196",
   "metadata": {},
   "source": [
    "**(5f).** [2 pts] Conduct a two-sample t-test for differences between the `for_score` during the Michael Jordan seasons and seasons without him. Feel free to use the `scipy.stats` library to perform the t-test for independent samples and assume equal variances. Print the t-statistic and the associated p-value."
   ]
  },
  {
   "cell_type": "code",
   "execution_count": 32,
   "id": "2be10f36",
   "metadata": {},
   "outputs": [
    {
     "name": "stdout",
     "output_type": "stream",
     "text": [
      "T-statistic for for_score: 4.756150092729335\n",
      "P-value for for_score: 2.4852089514923217e-06\n"
     ]
    }
   ],
   "source": [
    "jordan_for_score = df_subset_jordan['for_score']\n",
    "no_jordan_for_score = df_subset_no_jordan['for_score']\n",
    "\n",
    "t_stat, p_val = stats.ttest_ind(jordan_for_score, no_jordan_for_score, equal_var=True)\n",
    "print(\"T-statistic for for_score:\", t_stat)\n",
    "print(\"P-value for for_score:\", p_val)"
   ]
  },
  {
   "cell_type": "markdown",
   "id": "242634f1",
   "metadata": {},
   "source": [
    "**(5g).** [3 pts] Repeat 5e and 5f for the `against_score`. Print the t-statistic and the associated p-value."
   ]
  },
  {
   "cell_type": "code",
   "execution_count": 33,
   "id": "3c256767",
   "metadata": {},
   "outputs": [
    {
     "name": "stdout",
     "output_type": "stream",
     "text": [
      "Mean against_score during the Jordan seasons: 95.02216748768473\n",
      "Mean against_score during seasons without Jordan: 95.60326086956522\n",
      "T-statistic for against_score: -0.5878270595434669\n",
      "P-value for against_score: 0.5568740583479378\n"
     ]
    }
   ],
   "source": [
    "mean_against_score_jordan = df_subset_jordan['against_score'].mean()\n",
    "mean_against_score_no_jordan = df_subset_no_jordan['against_score'].mean()\n",
    "\n",
    "print(\"Mean against_score during the Jordan seasons:\", mean_against_score_jordan)\n",
    "print(\"Mean against_score during seasons without Jordan:\", mean_against_score_no_jordan)\n",
    "\n",
    "jordan_against_score = df_subset_jordan['against_score']\n",
    "no_jordan_against_score = df_subset_no_jordan['against_score']\n",
    "\n",
    "t_stat, p_val = stats.ttest_ind(jordan_against_score, no_jordan_against_score, equal_var=True)\n",
    "print(\"T-statistic for against_score:\", t_stat)\n",
    "print(\"P-value for against_score:\", p_val)"
   ]
  },
  {
   "cell_type": "markdown",
   "id": "55c6d41e",
   "metadata": {},
   "source": [
    "**(5h).** [2 pts] What would you conclude based on the two tests?"
   ]
  },
  {
   "cell_type": "markdown",
   "id": "5f7b583d",
   "metadata": {},
   "source": [
    "**A:** Based on the two tests, we can conclude that the Michael Jordan effect was significant for the for_score, as the p-value was less than 0.05, and we reject the null hypothesis. However, the effect was not significant for the against_score, as the p-value was greater than 0.05, and we fail to reject the null hypothesis."
   ]
  },
  {
   "cell_type": "markdown",
   "id": "d00d2357",
   "metadata": {},
   "source": [
    "**(5i).** [3 pts] Repeat 5e and 5f for the `net_score`. Print the t-statistic and the associated p-value."
   ]
  },
  {
   "cell_type": "code",
   "execution_count": 34,
   "id": "191d0c6c",
   "metadata": {},
   "outputs": [
    {
     "name": "stdout",
     "output_type": "stream",
     "text": [
      "Mean net_score during the Jordan seasons: 9.369458128078819\n",
      "Mean net_score during seasons without Jordan: 3.733695652173913\n",
      "T-statistic for net_score: 5.032968529925134\n",
      "P-value for net_score: 6.428319460107873e-07\n"
     ]
    }
   ],
   "source": [
    "mean_net_score_jordan = df_subset_jordan['net_score'].mean()\n",
    "mean_net_score_no_jordan = df_subset_no_jordan['net_score'].mean()\n",
    "\n",
    "print(\"Mean net_score during the Jordan seasons:\", mean_net_score_jordan)\n",
    "print(\"Mean net_score during seasons without Jordan:\", mean_net_score_no_jordan)\n",
    "\n",
    "jordan_net_score = df_subset_jordan['net_score']\n",
    "no_jordan_net_score = df_subset_no_jordan['net_score']\n",
    "\n",
    "t_stat, p_val = stats.ttest_ind(jordan_net_score, no_jordan_net_score, equal_var=True)\n",
    "print(\"T-statistic for net_score:\", t_stat)\n",
    "print(\"P-value for net_score:\", p_val)"
   ]
  },
  {
   "cell_type": "markdown",
   "id": "5c06cc67",
   "metadata": {},
   "source": [
    "**(5j).** [1 pt] Does this test confirm the conclusion you reached based on the earlier two tests?"
   ]
  },
  {
   "cell_type": "markdown",
   "id": "403d7ce5",
   "metadata": {},
   "source": [
    "**A:** Yes. If he had no effect on against_score and a significant one on for_score then he also had a significant one on net_score since we could ignore against_score."
   ]
  },
  {
   "cell_type": "markdown",
   "id": "4b24ac24",
   "metadata": {},
   "source": [
    "**(5k).** [2 pts] While Scottie Pippen and Phil Jackson were constants during the entire period 1992-1998, can you think of reasons to cast doubt on the conclusions reached by the tests?\n",
    "\n",
    "*Hint:* We want you to question whether the assumption about \"no other confounding variables\" is valid? Could there be other factors at play?"
   ]
  },
  {
   "cell_type": "markdown",
   "id": "e0de9e92",
   "metadata": {},
   "source": [
    "**A:** The Bulls roster underwent changes other than simply Jordan retiring and unretiring and other key contributors such as BJ Horace Grant, Dennis Rodman, Toni Kukoc, etc. weren't present for the entire period. The rosters of other teams also were not constant so level of competition could alter the results as well."
   ]
  },
  {
   "cell_type": "markdown",
   "id": "ac5d8f89",
   "metadata": {},
   "source": [
    "## 6. Do back-to-back games impact scoring? (OPTIONAL: NOT FOR GRADE)\n",
    "We want to test whether teams playing back-to-back games (i.e. playing on consecutive nights of the week) has any effect on total scoring during a game. "
   ]
  },
  {
   "cell_type": "markdown",
   "id": "89585af1",
   "metadata": {},
   "source": [
    "**(6a).** Write a function, `rest_days()` which takes as input the complete dataset as a dataframe and adds a new column which records the total number of nights of rest that the home and away teams have had for each game. Call your function to update the dataframe.\n",
    "\n",
    "*Note:* the column must track the <b>sum</b> of the rest days for the home and away team.\n",
    "\n",
    "If a team has a prolonged rest (i.e. > 7 days), set that to 8 days. This will help eliminate the skewed effects of strikes and long periods off (e.g. the summer). The first game for a team can be set to 8 days as well. Therefore, the range for the new column is 2-16 days (both inclusive).\n",
    "\n",
    "Your function should pass the test case below."
   ]
  },
  {
   "cell_type": "code",
   "execution_count": 35,
   "id": "c560cf39",
   "metadata": {},
   "outputs": [],
   "source": [
    "def rest_days(df):\n",
    "    '''\n",
    "    Add a column for the total number of rest days the home and away team have before a game\n",
    "    @param df: pandas DataFrame, contains columns date, home_team, away_team, etc., will be modified by function\n",
    "    @return: None\n",
    "    '''\n",
    "    last_game = {}\n",
    "    for team in set(df['home_team']):\n",
    "        last_game[team] = datetime.datetime(1900, 1, 1)\n",
    "    rest_combinations = []\n",
    "    \n",
    "    for i in range(len(df)):\n",
    "        game = df.loc[i]\n",
    "        date = game['date']\n",
    "        home = game['home_team']\n",
    "        away = game['away_team']\n",
    "        #calculate rest for each team\n",
    "        home_rest = date-last_game[home]\n",
    "        away_rest = date-last_game[away]\n",
    "        #add them together\n",
    "        rest_combinations.append(min(8, home_rest.days)+min(8, away_rest.days))\n",
    "        #update last game played\n",
    "        last_game[home] = date\n",
    "        last_game[away] = date\n",
    "    df['rest'] = rest_combinations\n",
    "        \n",
    "        \n",
    "        "
   ]
  },
  {
   "cell_type": "code",
   "execution_count": 36,
   "id": "c87ba494",
   "metadata": {},
   "outputs": [],
   "source": [
    "rest_days(df)\n",
    "assert df.loc[np.logical_and.reduce((df['home_team'] == 'Boston Celtics',\n",
    "                                     df['away_team'] == 'Miami Heat',\n",
    "                                     df['date'] == pd.to_datetime('2017-03-26')))].rest.values[0] == 5"
   ]
  },
  {
   "cell_type": "markdown",
   "id": "80ee92be",
   "metadata": {},
   "source": [
    "**(6b).** Produce a histogram of the rest days with 10 bins"
   ]
  },
  {
   "cell_type": "code",
   "execution_count": 37,
   "id": "f2d631f0",
   "metadata": {},
   "outputs": [
    {
     "name": "stdout",
     "output_type": "stream",
     "text": [
      "col_0  count\n",
      "rest        \n",
      "0          1\n",
      "2       7450\n",
      "3      11550\n",
      "4      22087\n",
      "5       9248\n",
      "6       5592\n",
      "7       1643\n",
      "8       1120\n",
      "9        521\n",
      "10       329\n",
      "11       222\n",
      "12       189\n",
      "13        72\n",
      "14        26\n",
      "15         8\n",
      "16       630\n"
     ]
    },
    {
     "data": {
      "image/png": "[encoded data removed]",
      "text/plain": [
       "<Figure size 640x480 with 1 Axes>"
      ]
     },
     "metadata": {},
     "output_type": "display_data"
    }
   ],
   "source": [
    "print(pd.crosstab(index=df[\"rest\"], columns=\"count\"))\n",
    "plt.hist(df['rest'], bins=10)\n",
    "plt.xlabel('Rest Days')\n",
    "plt.ylabel('Frequency')\n",
    "plt.title('Rest Days Histogram')\n",
    "plt.show()"
   ]
  },
  {
   "cell_type": "markdown",
   "id": "35e74eaf",
   "metadata": {},
   "source": [
    "**(6c).** What does the histogram tell you about the schedule of an NBA team during the season?"
   ]
  },
  {
   "cell_type": "markdown",
   "id": "671f3fcc",
   "metadata": {},
   "source": [
    "**A:** The vast majority of games are played with a combined 3 or 4 day rest and it tails off rapidly as you increase the rest."
   ]
  },
  {
   "cell_type": "markdown",
   "id": "810430f4",
   "metadata": {},
   "source": [
    "**(6d).** For the seasons 2000-2017 only, produce two subsets:<br>\n",
    "`back_to_back`: with games where the rest days are <= 3 (i.e. at least one team is playing back-to-back)<br>\n",
    "`longer`: games where the rest days are >=4 and <= 5."
   ]
  },
  {
   "cell_type": "code",
   "execution_count": 38,
   "id": "78738666",
   "metadata": {},
   "outputs": [],
   "source": [
    "back_to_back = df.query('season >= 2000 & season <= 2017 & rest <= 3')\n",
    "longer = df.query('season >= 2000 & season <= 2017 & (rest == 4 | rest == 5)')\n"
   ]
  },
  {
   "cell_type": "markdown",
   "id": "097264f5",
   "metadata": {},
   "source": [
    "**(6e).** What would your Null Hypothesis be if you wanted to test whether back_to_back games produce different total scores than games with combined rest between 4-5 days? Assume there are no other confounding variables at play."
   ]
  },
  {
   "cell_type": "markdown",
   "id": "330a7383",
   "metadata": {},
   "source": [
    "**A:** The null hypothesis would be that there is no significant difference in the total scores of games played by NBA teams with back-to-back games compared to games with combined rest between 4-5 days."
   ]
  },
  {
   "cell_type": "markdown",
   "id": "310c22d7",
   "metadata": {},
   "source": [
    "**(6f).** Print the mean total scores per game for the <b>back_to_back</b> and <b>longer</b> subsets (for seasons 2000-2017)."
   ]
  },
  {
   "cell_type": "code",
   "execution_count": 39,
   "id": "a55974e8",
   "metadata": {},
   "outputs": [
    {
     "name": "stdout",
     "output_type": "stream",
     "text": [
      "Mean total scores per game for back-to-back games:  196.54280821917808\n",
      "Mean total scores per game for games with rest between 4-5 days:  197.18168168168168\n"
     ]
    }
   ],
   "source": [
    "print(\"Mean total scores per game for back-to-back games: \", back_to_back['total_score'].mean())\n",
    "print(\"Mean total scores per game for games with rest between 4-5 days: \", longer['total_score'].mean())"
   ]
  },
  {
   "cell_type": "markdown",
   "id": "dc769075",
   "metadata": {},
   "source": [
    "**(6g).** For the seasons 2000-2017 and using the two subsets you created, conduct a two-sample t-test to test your hypothesis. Feel free to use the `scipy.stats` library to perform the t-test for independent samples with equal variances. Print the t-statistic and the associated p-value."
   ]
  },
  {
   "cell_type": "code",
   "execution_count": 40,
   "id": "d98f3663",
   "metadata": {},
   "outputs": [
    {
     "name": "stdout",
     "output_type": "stream",
     "text": [
      "t-statistic:  -2.02202130746823\n",
      "p-value:  0.043187611133102294\n"
     ]
    }
   ],
   "source": [
    "# Conduct t-test\n",
    "t_stat, p_value = stats.ttest_ind(back_to_back['total_score'], longer['total_score'], equal_var=True)\n",
    "\n",
    "# Print results\n",
    "print(\"t-statistic: \", t_stat)\n",
    "print(\"p-value: \", p_value)"
   ]
  },
  {
   "cell_type": "markdown",
   "id": "2a648625",
   "metadata": {},
   "source": [
    "**(6h).** What do you conclude about back-to-back games?"
   ]
  },
  {
   "cell_type": "markdown",
   "id": "523118b8",
   "metadata": {},
   "source": [
    "**A:** With a significance level of 0.05, we reject that there is no significant difference in the total scores of games played by NBA teams with back-to-back games compared to games with combined rest between 4-5 days."
   ]
  },
  {
   "cell_type": "markdown",
   "id": "cdc29058",
   "metadata": {},
   "source": [
    "**(6i).** Do you think the difference/no difference between <= 3 rest days and 4-5 rest days could be a result of confounding (i.e. other factors which may explain or be responsible for the observations)? What could be the confounding factors?\n",
    "\n",
    "*Hint:* Think about situations during the season when the distributions of rest days could be different. "
   ]
  },
  {
   "cell_type": "markdown",
   "id": "3fb61ec3",
   "metadata": {},
   "source": [
    "**A:** Back-to-backs often involve the same matchup two days in a row or otherwise teams close to each other to minimize travel from either team. This means that the sample of matchups with back to backs is not drawn from the same distribution as longer rest. Also playoff matchups tend to involve 2-3 days of rest for each of team a lot of which would fall into the longer category again differentiating the sample distributions for the two datasets given the higher level of play in the playoffs."
   ]
  },
  {
   "cell_type": "code",
   "execution_count": null,
   "id": "87516aef",
   "metadata": {},
   "outputs": [],
   "source": []
  }
 ],
 "metadata": {
  "kernelspec": {
   "display_name": "Python 3 (ipykernel)",
   "language": "python",
   "name": "python3"
  },
  "language_info": {
   "codemirror_mode": {
    "name": "ipython",
    "version": 3
   },
   "file_extension": ".py",
   "mimetype": "text/x-python",
   "name": "python",
   "nbconvert_exporter": "python",
   "pygments_lexer": "ipython3",
   "version": "3.9.13"
  }
 },
 "nbformat": 4,
 "nbformat_minor": 5
}
